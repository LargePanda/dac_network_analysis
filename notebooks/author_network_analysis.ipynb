{
 "cells": [
  {
   "cell_type": "markdown",
   "metadata": {},
   "source": [
    "<h1 align=\"center\">DAC Author Network Analysis</h1> "
   ]
  },
  {
   "cell_type": "markdown",
   "metadata": {},
   "source": [
    "Reference:    \n",
    "[1] Modularity and community structure in networks http://www.pnas.org/content/103/23/8577.full.pdf    \n",
    "[2] The structure of scientific collaboration networks http://www.pnas.org/content/98/2/404.full.pdf    \n",
    "[3] D. Liben-Nowell, J. Kleinberg. The Link Prediction Problem for Social Networks (2004). http://www.cs.cornell.edu/home/kleinber/link-pred.pdf"
   ]
  },
  {
   "cell_type": "code",
   "execution_count": 1,
   "metadata": {
    "collapsed": true
   },
   "outputs": [],
   "source": [
    "%matplotlib inline\n",
    "\n",
    "import matplotlib\n",
    "import matplotlib.pyplot as plt\n",
    "\n",
    "matplotlib.rcParams.update({'font.size': 14})"
   ]
  },
  {
   "cell_type": "code",
   "execution_count": 2,
   "metadata": {
    "collapsed": false
   },
   "outputs": [],
   "source": [
    "import networkx as nx\n",
    "from DAC import Author\n",
    "from DAC import Paper\n",
    "import pandas as pd\n",
    "import pickle\n",
    "import pyprind\n",
    "import community\n",
    "import operator\n",
    "\n",
    "from fuzzywuzzy import fuzz\n",
    "from fuzzywuzzy import process"
   ]
  },
  {
   "cell_type": "markdown",
   "metadata": {},
   "source": [
    "### load author and paper data"
   ]
  },
  {
   "cell_type": "code",
   "execution_count": 3,
   "metadata": {
    "collapsed": false
   },
   "outputs": [],
   "source": [
    "with open(\"../process_data/Author_Data.pickle\", \"rb\") as f:\n",
    "    authors = pickle.load(f)\n",
    "    \n",
    "with open(\"../process_data/Paper_Data.pickle\", \"rb\") as f:\n",
    "    papers = pickle.load(f)"
   ]
  },
  {
   "cell_type": "code",
   "execution_count": 4,
   "metadata": {
    "collapsed": false
   },
   "outputs": [
    {
     "data": {
      "text/plain": [
       "{'abstract': u'In curve design, controlling the characteristics of the overall shape is difficult using conventional microscopic shape-information such as dimension. Curvature entropy as calculated by the distribution of curvature was proposed as the macroscopic shape-information, and was confirmed to represent the complexity of a shape. In order to adjust the shape recognition of human beings, a Markov process was introduced into the definition of the macroscopic shape-information. Shape-generation method using the macroscopic shape-information was developed, and was applied to the design of an automobile side-view. Thus, the possibility of curve design-support using the macroscopic shape-information was indicated.',\n",
       " 'author_ids': ['1093', '742'],\n",
       " 'author_names': [u'Yoshiki Ujiie', u'Yoshiyuki Matsuoka'],\n",
       " 'broad_topic': u'',\n",
       " 'citations': [],\n",
       " 'cited_by': [],\n",
       " 'detc': u'DETC2002',\n",
       " 'pid': u'DETC2002/DAC-34072 pp. 327-336; (10 pages)',\n",
       " 'title': u'Macroscopic Shape-Information as a Curve Design-Guideline',\n",
       " 'topics': [u'Design', u'Shapes'],\n",
       " 'url': u'http://proceedings.asmedigitalcollection.asme.org//proceeding.aspx?articleID=1579888',\n",
       " 'year': 2002}"
      ]
     },
     "execution_count": 4,
     "metadata": {},
     "output_type": "execute_result"
    }
   ],
   "source": [
    "papers['DETC2002/DAC-34072 pp. 327-336; (10 pages)'].__dict__"
   ]
  },
  {
   "cell_type": "markdown",
   "metadata": {},
   "source": [
    "# Network Construction"
   ]
  },
  {
   "cell_type": "code",
   "execution_count": 5,
   "metadata": {
    "collapsed": false
   },
   "outputs": [],
   "source": [
    "def make_pairs(input_list):\n",
    "    length = len(input_list)\n",
    "    ret = []\n",
    "    if length == 1:\n",
    "        return []\n",
    "    for i in range(0, length-1):\n",
    "        for j in range(i+1, length):\n",
    "            ret.append((input_list[i], input_list[j]))\n",
    "    return ret\n",
    "\n",
    "def papers_by_year(papers, inf, sup):\n",
    "    ret = []\n",
    "    for p in papers.values():\n",
    "        if p.year <= sup and p.year >= inf:\n",
    "            ret.append(p)\n",
    "    return ret\n",
    "\n",
    "def make_edges(papers_selected):\n",
    "    edge_list = []\n",
    "    for p in papers_selected:\n",
    "        edge_list.extend(make_pairs(p.author_ids))\n",
    "    return edge_list\n",
    "\n",
    "def author_network(papers, inf_year, sup_year):\n",
    "    papers_between = papers_by_year(papers, inf_year, sup_year)\n",
    "    edge_list = make_edges(papers_between)\n",
    "    \n",
    "    G=nx.Graph()\n",
    "    for edge in edge_list:\n",
    "        G.add_edge(edge[0], edge[1])\n",
    "    return G\n"
   ]
  },
  {
   "cell_type": "code",
   "execution_count": 6,
   "metadata": {
    "collapsed": false
   },
   "outputs": [],
   "source": [
    "def plot_time_series(data, ytext, xtext, filename, size, ylim = None, xlim = None):\n",
    "    keys = data.keys()\n",
    "    values = data.values()\n",
    "    plt.figure(figsize=size)\n",
    "    if ylim != None:\n",
    "        plt.ylim(0, ylim)\n",
    "        \n",
    "    if xlim != None:\n",
    "        plt.xlim(0, xlim)\n",
    "        \n",
    "    plt.plot(keys, values)\n",
    "    for a,b in zip(keys, values): \n",
    "        plt.text(a, b, '%.2f' % b)\n",
    "    plt.ylabel(ytext)\n",
    "    plt.xlabel(xtext)\n",
    "    \n",
    "    plt.savefig('pp.png', format='png')\n",
    "    plt.show()\n",
    "    \n",
    "    return None\n",
    "\n",
    "def plot_time_series_2(data, ytext, xtext, filename, size, ymin, ymax):\n",
    "    keys = data.keys()\n",
    "    values = data.values()\n",
    "    plt.figure(figsize=size)\n",
    "    if ymin != None:\n",
    "        plt.ylim(ymin, ymax)\n",
    "        \n",
    "        \n",
    "    plt.plot(keys, values)\n",
    "    for a,b in zip(keys, values): \n",
    "        plt.text(a, b, '%.2f' % b)\n",
    "    plt.ylabel(ytext)\n",
    "    plt.xlabel(xtext)\n",
    "    \n",
    "    plt.savefig('pp.png', format='png')\n",
    "    plt.show()\n",
    "    \n",
    "    return None"
   ]
  },
  {
   "cell_type": "markdown",
   "metadata": {},
   "source": [
    "# 1. Total papers"
   ]
  },
  {
   "cell_type": "code",
   "execution_count": 7,
   "metadata": {
    "collapsed": false
   },
   "outputs": [
    {
     "data": {
      "text/plain": [
       "1668"
      ]
     },
     "execution_count": 7,
     "metadata": {},
     "output_type": "execute_result"
    }
   ],
   "source": [
    "len(papers)"
   ]
  },
  {
   "cell_type": "markdown",
   "metadata": {},
   "source": [
    "From 2002 to 2015, there are 1668 papers in DAC."
   ]
  },
  {
   "cell_type": "code",
   "execution_count": 8,
   "metadata": {
    "collapsed": false
   },
   "outputs": [],
   "source": [
    "def year_paper_stats():\n",
    "    stats = {}\n",
    "    for p in papers.values():\n",
    "        stats[p.year] = 0\n",
    "        \n",
    "    for p in papers.values():\n",
    "        stats[p.year] += 1\n",
    "    \n",
    "    return stats"
   ]
  },
  {
   "cell_type": "code",
   "execution_count": 9,
   "metadata": {
    "collapsed": false
   },
   "outputs": [
    {
     "data": {
      "text/plain": [
       "<matplotlib.text.Text at 0x11025c2d0>"
      ]
     },
     "execution_count": 9,
     "metadata": {},
     "output_type": "execute_result"
    },
    {
     "data": {
      "image/png": "[encoded data removed]",
      "text/plain": [
       "<matplotlib.figure.Figure at 0x10f52ca10>"
      ]
     },
     "metadata": {},
     "output_type": "display_data"
    }
   ],
   "source": [
    "yt = year_paper_stats()\n",
    "plt.plot(yt.keys(), yt.values())\n",
    "plt.ylabel('Papers')\n",
    "plt.xlabel('Year')"
   ]
  },
  {
   "cell_type": "code",
   "execution_count": 10,
   "metadata": {
    "collapsed": false
   },
   "outputs": [
    {
     "data": {
      "text/html": [
       "<div>\n",
       "<table border=\"1\" class=\"dataframe\">\n",
       "  <thead>\n",
       "    <tr style=\"text-align: right;\">\n",
       "      <th></th>\n",
       "      <th>Year</th>\n",
       "      <th>Papers</th>\n",
       "    </tr>\n",
       "  </thead>\n",
       "  <tbody>\n",
       "    <tr>\n",
       "      <th>0</th>\n",
       "      <td>2002</td>\n",
       "      <td>117</td>\n",
       "    </tr>\n",
       "    <tr>\n",
       "      <th>1</th>\n",
       "      <td>2003</td>\n",
       "      <td>143</td>\n",
       "    </tr>\n",
       "    <tr>\n",
       "      <th>2</th>\n",
       "      <td>2004</td>\n",
       "      <td>115</td>\n",
       "    </tr>\n",
       "    <tr>\n",
       "      <th>3</th>\n",
       "      <td>2005</td>\n",
       "      <td>128</td>\n",
       "    </tr>\n",
       "    <tr>\n",
       "      <th>4</th>\n",
       "      <td>2006</td>\n",
       "      <td>118</td>\n",
       "    </tr>\n",
       "    <tr>\n",
       "      <th>5</th>\n",
       "      <td>2007</td>\n",
       "      <td>125</td>\n",
       "    </tr>\n",
       "    <tr>\n",
       "      <th>6</th>\n",
       "      <td>2008</td>\n",
       "      <td>119</td>\n",
       "    </tr>\n",
       "    <tr>\n",
       "      <th>7</th>\n",
       "      <td>2009</td>\n",
       "      <td>122</td>\n",
       "    </tr>\n",
       "    <tr>\n",
       "      <th>8</th>\n",
       "      <td>2010</td>\n",
       "      <td>112</td>\n",
       "    </tr>\n",
       "    <tr>\n",
       "      <th>9</th>\n",
       "      <td>2011</td>\n",
       "      <td>110</td>\n",
       "    </tr>\n",
       "    <tr>\n",
       "      <th>10</th>\n",
       "      <td>2012</td>\n",
       "      <td>123</td>\n",
       "    </tr>\n",
       "    <tr>\n",
       "      <th>11</th>\n",
       "      <td>2013</td>\n",
       "      <td>114</td>\n",
       "    </tr>\n",
       "    <tr>\n",
       "      <th>12</th>\n",
       "      <td>2014</td>\n",
       "      <td>108</td>\n",
       "    </tr>\n",
       "    <tr>\n",
       "      <th>13</th>\n",
       "      <td>2015</td>\n",
       "      <td>114</td>\n",
       "    </tr>\n",
       "  </tbody>\n",
       "</table>\n",
       "</div>"
      ],
      "text/plain": [
       "    Year  Papers\n",
       "0   2002     117\n",
       "1   2003     143\n",
       "2   2004     115\n",
       "3   2005     128\n",
       "4   2006     118\n",
       "5   2007     125\n",
       "6   2008     119\n",
       "7   2009     122\n",
       "8   2010     112\n",
       "9   2011     110\n",
       "10  2012     123\n",
       "11  2013     114\n",
       "12  2014     108\n",
       "13  2015     114"
      ]
     },
     "execution_count": 10,
     "metadata": {},
     "output_type": "execute_result"
    }
   ],
   "source": [
    "pd.DataFrame(yt.items(), columns=['Year', 'Papers'])"
   ]
  },
  {
   "cell_type": "markdown",
   "metadata": {},
   "source": [
    "# 2. Total authors"
   ]
  },
  {
   "cell_type": "code",
   "execution_count": 11,
   "metadata": {
    "collapsed": false
   },
   "outputs": [
    {
     "data": {
      "text/plain": [
       "2370"
      ]
     },
     "execution_count": 11,
     "metadata": {},
     "output_type": "execute_result"
    }
   ],
   "source": [
    "len(authors)"
   ]
  },
  {
   "cell_type": "code",
   "execution_count": 12,
   "metadata": {
    "collapsed": false
   },
   "outputs": [
    {
     "data": {
      "text/plain": [
       "1.420863309352518"
      ]
     },
     "execution_count": 12,
     "metadata": {},
     "output_type": "execute_result"
    }
   ],
   "source": [
    "2370/1668."
   ]
  },
  {
   "cell_type": "markdown",
   "metadata": {},
   "source": [
    "From 2002 to 2015, there are 2370 authors in DAC."
   ]
  },
  {
   "cell_type": "code",
   "execution_count": 13,
   "metadata": {
    "collapsed": true
   },
   "outputs": [],
   "source": [
    "def year_author_stats():\n",
    "    year_au = {}\n",
    "    for p in papers.values():\n",
    "        year_au[p.year] = set()\n",
    "        \n",
    "    for p in papers.values():\n",
    "        for au in p.author_ids:\n",
    "            year_au[p.year].add(au)\n",
    "    \n",
    "    stats = {}\n",
    "    for y in year_au.keys():\n",
    "        stats[y] = len(year_au[y])\n",
    "    return stats"
   ]
  },
  {
   "cell_type": "code",
   "execution_count": 14,
   "metadata": {
    "collapsed": false
   },
   "outputs": [
    {
     "data": {
      "text/plain": [
       "<matplotlib.text.Text at 0x11026a7d0>"
      ]
     },
     "execution_count": 14,
     "metadata": {},
     "output_type": "execute_result"
    },
    {
     "data": {
      "image/png": "[encoded data removed]",
      "text/plain": [
       "<matplotlib.figure.Figure at 0x107d45210>"
      ]
     },
     "metadata": {},
     "output_type": "display_data"
    }
   ],
   "source": [
    "yt = year_author_stats()\n",
    "plt.plot(yt.keys(), yt.values())\n",
    "plt.ylabel('Authors')\n",
    "plt.xlabel('Year')"
   ]
  },
  {
   "cell_type": "code",
   "execution_count": 15,
   "metadata": {
    "collapsed": false
   },
   "outputs": [
    {
     "data": {
      "text/html": [
       "<div>\n",
       "<table border=\"1\" class=\"dataframe\">\n",
       "  <thead>\n",
       "    <tr style=\"text-align: right;\">\n",
       "      <th></th>\n",
       "      <th>Year</th>\n",
       "      <th>Authors</th>\n",
       "    </tr>\n",
       "  </thead>\n",
       "  <tbody>\n",
       "    <tr>\n",
       "      <th>0</th>\n",
       "      <td>2002</td>\n",
       "      <td>278</td>\n",
       "    </tr>\n",
       "    <tr>\n",
       "      <th>1</th>\n",
       "      <td>2003</td>\n",
       "      <td>319</td>\n",
       "    </tr>\n",
       "    <tr>\n",
       "      <th>2</th>\n",
       "      <td>2004</td>\n",
       "      <td>275</td>\n",
       "    </tr>\n",
       "    <tr>\n",
       "      <th>3</th>\n",
       "      <td>2005</td>\n",
       "      <td>281</td>\n",
       "    </tr>\n",
       "    <tr>\n",
       "      <th>4</th>\n",
       "      <td>2006</td>\n",
       "      <td>272</td>\n",
       "    </tr>\n",
       "    <tr>\n",
       "      <th>5</th>\n",
       "      <td>2007</td>\n",
       "      <td>285</td>\n",
       "    </tr>\n",
       "    <tr>\n",
       "      <th>6</th>\n",
       "      <td>2008</td>\n",
       "      <td>308</td>\n",
       "    </tr>\n",
       "    <tr>\n",
       "      <th>7</th>\n",
       "      <td>2009</td>\n",
       "      <td>307</td>\n",
       "    </tr>\n",
       "    <tr>\n",
       "      <th>8</th>\n",
       "      <td>2010</td>\n",
       "      <td>273</td>\n",
       "    </tr>\n",
       "    <tr>\n",
       "      <th>9</th>\n",
       "      <td>2011</td>\n",
       "      <td>282</td>\n",
       "    </tr>\n",
       "    <tr>\n",
       "      <th>10</th>\n",
       "      <td>2012</td>\n",
       "      <td>302</td>\n",
       "    </tr>\n",
       "    <tr>\n",
       "      <th>11</th>\n",
       "      <td>2013</td>\n",
       "      <td>266</td>\n",
       "    </tr>\n",
       "    <tr>\n",
       "      <th>12</th>\n",
       "      <td>2014</td>\n",
       "      <td>269</td>\n",
       "    </tr>\n",
       "    <tr>\n",
       "      <th>13</th>\n",
       "      <td>2015</td>\n",
       "      <td>304</td>\n",
       "    </tr>\n",
       "  </tbody>\n",
       "</table>\n",
       "</div>"
      ],
      "text/plain": [
       "    Year  Authors\n",
       "0   2002      278\n",
       "1   2003      319\n",
       "2   2004      275\n",
       "3   2005      281\n",
       "4   2006      272\n",
       "5   2007      285\n",
       "6   2008      308\n",
       "7   2009      307\n",
       "8   2010      273\n",
       "9   2011      282\n",
       "10  2012      302\n",
       "11  2013      266\n",
       "12  2014      269\n",
       "13  2015      304"
      ]
     },
     "execution_count": 15,
     "metadata": {},
     "output_type": "execute_result"
    }
   ],
   "source": [
    "pd.DataFrame(yt.items(), columns=['Year', 'Authors'])"
   ]
  },
  {
   "cell_type": "markdown",
   "metadata": {},
   "source": [
    "# 3. Mean authors per paper"
   ]
  },
  {
   "cell_type": "code",
   "execution_count": 16,
   "metadata": {
    "collapsed": true
   },
   "outputs": [],
   "source": [
    "def avg_stats():\n",
    "    stats = {}\n",
    "    \n",
    "    au_stats = year_author_stats()\n",
    "    pp_stats = year_paper_stats()\n",
    "    \n",
    "    for year in au_stats.keys():\n",
    "        stats[year] = float(au_stats[year])/float(pp_stats[year])\n",
    "        \n",
    "    return stats"
   ]
  },
  {
   "cell_type": "code",
   "execution_count": 17,
   "metadata": {
    "collapsed": false
   },
   "outputs": [
    {
     "data": {
      "text/plain": [
       "<matplotlib.text.Text at 0x11043a4d0>"
      ]
     },
     "execution_count": 17,
     "metadata": {},
     "output_type": "execute_result"
    },
    {
     "data": {
      "image/png": "[encoded data removed]",
      "text/plain": [
       "<matplotlib.figure.Figure at 0x1104afad0>"
      ]
     },
     "metadata": {},
     "output_type": "display_data"
    }
   ],
   "source": [
    "yt = avg_stats()\n",
    "plt.plot(yt.keys(), yt.values())\n",
    "plt.ylabel('Mean authors per paper')\n",
    "plt.xlabel('Year')"
   ]
  },
  {
   "cell_type": "code",
   "execution_count": 18,
   "metadata": {
    "collapsed": false
   },
   "outputs": [
    {
     "data": {
      "text/plain": [
       "{2002: 2.376068376068376,\n",
       " 2003: 2.230769230769231,\n",
       " 2004: 2.391304347826087,\n",
       " 2005: 2.1953125,\n",
       " 2006: 2.305084745762712,\n",
       " 2007: 2.28,\n",
       " 2008: 2.588235294117647,\n",
       " 2009: 2.5163934426229506,\n",
       " 2010: 2.4375,\n",
       " 2011: 2.5636363636363635,\n",
       " 2012: 2.4552845528455283,\n",
       " 2013: 2.3333333333333335,\n",
       " 2014: 2.490740740740741,\n",
       " 2015: 2.6666666666666665}"
      ]
     },
     "execution_count": 18,
     "metadata": {},
     "output_type": "execute_result"
    }
   ],
   "source": [
    "yt"
   ]
  },
  {
   "cell_type": "code",
   "execution_count": 19,
   "metadata": {
    "collapsed": false
   },
   "outputs": [
    {
     "data": {
      "text/html": [
       "<div>\n",
       "<table border=\"1\" class=\"dataframe\">\n",
       "  <thead>\n",
       "    <tr style=\"text-align: right;\">\n",
       "      <th></th>\n",
       "      <th>Year</th>\n",
       "      <th>Mean authors per paper</th>\n",
       "    </tr>\n",
       "  </thead>\n",
       "  <tbody>\n",
       "    <tr>\n",
       "      <th>0</th>\n",
       "      <td>2002</td>\n",
       "      <td>2.376068</td>\n",
       "    </tr>\n",
       "    <tr>\n",
       "      <th>1</th>\n",
       "      <td>2003</td>\n",
       "      <td>2.230769</td>\n",
       "    </tr>\n",
       "    <tr>\n",
       "      <th>2</th>\n",
       "      <td>2004</td>\n",
       "      <td>2.391304</td>\n",
       "    </tr>\n",
       "    <tr>\n",
       "      <th>3</th>\n",
       "      <td>2005</td>\n",
       "      <td>2.195312</td>\n",
       "    </tr>\n",
       "    <tr>\n",
       "      <th>4</th>\n",
       "      <td>2006</td>\n",
       "      <td>2.305085</td>\n",
       "    </tr>\n",
       "    <tr>\n",
       "      <th>5</th>\n",
       "      <td>2007</td>\n",
       "      <td>2.280000</td>\n",
       "    </tr>\n",
       "    <tr>\n",
       "      <th>6</th>\n",
       "      <td>2008</td>\n",
       "      <td>2.588235</td>\n",
       "    </tr>\n",
       "    <tr>\n",
       "      <th>7</th>\n",
       "      <td>2009</td>\n",
       "      <td>2.516393</td>\n",
       "    </tr>\n",
       "    <tr>\n",
       "      <th>8</th>\n",
       "      <td>2010</td>\n",
       "      <td>2.437500</td>\n",
       "    </tr>\n",
       "    <tr>\n",
       "      <th>9</th>\n",
       "      <td>2011</td>\n",
       "      <td>2.563636</td>\n",
       "    </tr>\n",
       "    <tr>\n",
       "      <th>10</th>\n",
       "      <td>2012</td>\n",
       "      <td>2.455285</td>\n",
       "    </tr>\n",
       "    <tr>\n",
       "      <th>11</th>\n",
       "      <td>2013</td>\n",
       "      <td>2.333333</td>\n",
       "    </tr>\n",
       "    <tr>\n",
       "      <th>12</th>\n",
       "      <td>2014</td>\n",
       "      <td>2.490741</td>\n",
       "    </tr>\n",
       "    <tr>\n",
       "      <th>13</th>\n",
       "      <td>2015</td>\n",
       "      <td>2.666667</td>\n",
       "    </tr>\n",
       "  </tbody>\n",
       "</table>\n",
       "</div>"
      ],
      "text/plain": [
       "    Year  Mean authors per paper\n",
       "0   2002                2.376068\n",
       "1   2003                2.230769\n",
       "2   2004                2.391304\n",
       "3   2005                2.195312\n",
       "4   2006                2.305085\n",
       "5   2007                2.280000\n",
       "6   2008                2.588235\n",
       "7   2009                2.516393\n",
       "8   2010                2.437500\n",
       "9   2011                2.563636\n",
       "10  2012                2.455285\n",
       "11  2013                2.333333\n",
       "12  2014                2.490741\n",
       "13  2015                2.666667"
      ]
     },
     "execution_count": 19,
     "metadata": {},
     "output_type": "execute_result"
    }
   ],
   "source": [
    "pd.DataFrame(yt.items(), columns=['Year', 'Mean authors per paper'])"
   ]
  },
  {
   "cell_type": "markdown",
   "metadata": {},
   "source": [
    "# 4. Mean distance"
   ]
  },
  {
   "cell_type": "code",
   "execution_count": 20,
   "metadata": {
    "collapsed": true
   },
   "outputs": [],
   "source": [
    "def mean_dist_year(starting_yr, ending_yr):\n",
    "    g = author_network(papers, starting_yr, ending_yr)\n",
    "    \n",
    "    nodes = g.nodes()\n",
    "    pairs = make_pairs(nodes)\n",
    "\n",
    "    dist_list = []\n",
    "    for p in pairs:\n",
    "        try:\n",
    "            dist_list.append(nx.shortest_path_length(g, source = str(p[0]), target = str(p[1])))\n",
    "        except:\n",
    "            pass\n",
    "\n",
    "    return round(float(sum(dist_list))/len(dist_list),2)"
   ]
  },
  {
   "cell_type": "markdown",
   "metadata": {},
   "source": [
    "### 4.1 Each year"
   ]
  },
  {
   "cell_type": "code",
   "execution_count": 21,
   "metadata": {
    "collapsed": false
   },
   "outputs": [
    {
     "name": "stderr",
     "output_type": "stream",
     "text": [
      "0%          100%\n",
      "[##############] | ETA: 00:00:00\n",
      "Total time elapsed: 00:00:04\n"
     ]
    }
   ],
   "source": [
    "mean_dists = {}\n",
    "\n",
    "n = 14\n",
    "bar = pyprind.ProgBar(n)\n",
    "\n",
    "for ending in range(2002, 2016):\n",
    "    bar.update()\n",
    "    mean_dists[ending] = round(mean_dist_year(ending, ending), 2)"
   ]
  },
  {
   "cell_type": "code",
   "execution_count": 22,
   "metadata": {
    "collapsed": false
   },
   "outputs": [
    {
     "data": {
      "text/plain": [
       "{2002: 1.22,\n",
       " 2003: 1.51,\n",
       " 2004: 1.43,\n",
       " 2005: 1.61,\n",
       " 2006: 2.76,\n",
       " 2007: 1.35,\n",
       " 2008: 1.4,\n",
       " 2009: 1.75,\n",
       " 2010: 1.69,\n",
       " 2011: 1.32,\n",
       " 2012: 1.55,\n",
       " 2013: 1.43,\n",
       " 2014: 1.48,\n",
       " 2015: 1.35}"
      ]
     },
     "execution_count": 22,
     "metadata": {},
     "output_type": "execute_result"
    }
   ],
   "source": [
    "mean_dists"
   ]
  },
  {
   "cell_type": "code",
   "execution_count": 23,
   "metadata": {
    "collapsed": false
   },
   "outputs": [
    {
     "data": {
      "text/plain": [
       "<matplotlib.text.Text at 0x1104d6c10>"
      ]
     },
     "execution_count": 23,
     "metadata": {},
     "output_type": "execute_result"
    },
    {
     "data": {
      "image/png": "[encoded data removed]",
      "text/plain": [
       "<matplotlib.figure.Figure at 0x11059fb90>"
      ]
     },
     "metadata": {},
     "output_type": "display_data"
    }
   ],
   "source": [
    "plt.plot(mean_dists.keys(), mean_dists.values())\n",
    "plt.ylabel('Mean Distance')\n",
    "plt.xlabel('Year')"
   ]
  },
  {
   "cell_type": "markdown",
   "metadata": {},
   "source": [
    "### 4.2 Overall"
   ]
  },
  {
   "cell_type": "code",
   "execution_count": 24,
   "metadata": {
    "collapsed": false
   },
   "outputs": [
    {
     "data": {
      "text/plain": [
       "5.9"
      ]
     },
     "execution_count": 24,
     "metadata": {},
     "output_type": "execute_result"
    }
   ],
   "source": [
    "mean_dist_year(2002, 2016)"
   ]
  },
  {
   "cell_type": "markdown",
   "metadata": {},
   "source": [
    "# 5. Clustering coefficient C"
   ]
  },
  {
   "cell_type": "markdown",
   "metadata": {},
   "source": [
    "### 5.1 Each year"
   ]
  },
  {
   "cell_type": "code",
   "execution_count": 25,
   "metadata": {
    "collapsed": true
   },
   "outputs": [],
   "source": [
    "def clustering_coefficient_year(starting_yr, ending_yr):\n",
    "    g = author_network(papers, starting_yr, ending_yr)\n",
    "    return nx.average_clustering(g)"
   ]
  },
  {
   "cell_type": "code",
   "execution_count": 26,
   "metadata": {
    "collapsed": false
   },
   "outputs": [
    {
     "name": "stderr",
     "output_type": "stream",
     "text": [
      "0%          100%\n",
      "[##############] | ETA: 00:00:00\n",
      "Total time elapsed: 00:00:00\n"
     ]
    }
   ],
   "source": [
    "clustering_coefficients = {}\n",
    "\n",
    "n = 14\n",
    "bar = pyprind.ProgBar(n)\n",
    "\n",
    "for ending in range(2002, 2016):\n",
    "    bar.update()\n",
    "    clustering_coefficients[ending] = round(clustering_coefficient_year(ending, ending),2)"
   ]
  },
  {
   "cell_type": "code",
   "execution_count": 27,
   "metadata": {
    "collapsed": false
   },
   "outputs": [
    {
     "data": {
      "text/plain": [
       "{2002: 0.63,\n",
       " 2003: 0.67,\n",
       " 2004: 0.67,\n",
       " 2005: 0.63,\n",
       " 2006: 0.71,\n",
       " 2007: 0.67,\n",
       " 2008: 0.75,\n",
       " 2009: 0.7,\n",
       " 2010: 0.76,\n",
       " 2011: 0.79,\n",
       " 2012: 0.74,\n",
       " 2013: 0.72,\n",
       " 2014: 0.75,\n",
       " 2015: 0.79}"
      ]
     },
     "execution_count": 27,
     "metadata": {},
     "output_type": "execute_result"
    }
   ],
   "source": [
    "clustering_coefficients"
   ]
  },
  {
   "cell_type": "code",
   "execution_count": 28,
   "metadata": {
    "collapsed": false
   },
   "outputs": [
    {
     "data": {
      "image/png": "[encoded data removed]",
      "text/plain": [
       "<matplotlib.figure.Figure at 0x110767150>"
      ]
     },
     "metadata": {},
     "output_type": "display_data"
    }
   ],
   "source": [
    "plot_time_series_2(clustering_coefficients, \"Clustering Coefficients\", \"Year\",\"avgDegYear\", (8,5), 0.6, 0.8)"
   ]
  },
  {
   "cell_type": "markdown",
   "metadata": {},
   "source": [
    "### 5.2 Overall"
   ]
  },
  {
   "cell_type": "code",
   "execution_count": 29,
   "metadata": {
    "collapsed": false
   },
   "outputs": [
    {
     "data": {
      "text/plain": [
       "0.7069497808608101"
      ]
     },
     "execution_count": 29,
     "metadata": {},
     "output_type": "execute_result"
    }
   ],
   "source": [
    "clustering_coefficient_year(2002, 2015)"
   ]
  }
 ],
 "metadata": {
  "kernelspec": {
   "display_name": "Python 2",
   "language": "python",
   "name": "python2"
  },
  "language_info": {
   "codemirror_mode": {
    "name": "ipython",
    "version": 2
   },
   "file_extension": ".py",
   "mimetype": "text/x-python",
   "name": "python",
   "nbconvert_exporter": "python",
   "pygments_lexer": "ipython2",
   "version": "2.7.8"
  }
 },
 "nbformat": 4,
 "nbformat_minor": 0
}
